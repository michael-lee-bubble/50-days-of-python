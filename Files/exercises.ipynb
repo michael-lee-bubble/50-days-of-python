{
 "cells": [
  {
   "cell_type": "markdown",
   "metadata": {},
   "source": [
    "Day 2: Creating and Manipulating Arrays"
   ]
  },
  {
   "cell_type": "code",
   "execution_count": 154,
   "metadata": {},
   "outputs": [
    {
     "name": "stdout",
     "output_type": "stream",
     "text": [
      "(4,)\n",
      "4\n"
     ]
    }
   ],
   "source": [
    "import numpy as np\n",
    "\n",
    "# Set list from book\n",
    "list1 = [2,3,4,6]\n",
    "\n",
    "# Create a one-dimensional array from the list above\n",
    "list1 = np.array(list1, dtype='int64')\n",
    "\n",
    "# Check the shape and size of array\n",
    "print(list1.shape)\n",
    "print(list1.size)"
   ]
  },
  {
   "cell_type": "code",
   "execution_count": 155,
   "metadata": {},
   "outputs": [
    {
     "name": "stdout",
     "output_type": "stream",
     "text": [
      "[6 4 3 2]\n",
      "(4,)\n",
      "1\n",
      "int64\n",
      "(4,)\n",
      "1\n",
      "int64\n"
     ]
    }
   ],
   "source": [
    "# Reverse order of array\n",
    "print(list1[::-1])\n",
    "\n",
    "# Take these lists, turn them into arrays\n",
    "list1 = [2,3,4,6]\n",
    "list2 = [8,10,12,14]\n",
    "\n",
    "list1 = np.array(list1)\n",
    "list2 = np.array(list2)\n",
    "\n",
    "print(list1.shape)\n",
    "print(list1.ndim)\n",
    "print(list1.dtype)\n",
    "\n",
    "print(list2.shape)\n",
    "print(list2.ndim)\n",
    "print(list2.dtype)"
   ]
  },
  {
   "cell_type": "code",
   "execution_count": 156,
   "metadata": {},
   "outputs": [],
   "source": [
    "# Create arrays from the following list\n",
    "list1 = [2, 3, 4, 6]\n",
    "list2 = [8, 10.1, 12, 14] \n",
    "list3 = [16, 18, 20, 22.1]\n",
    "\n",
    "list1 = np.array(list1, dtype='int64')\n",
    "list2 = np.array(list2, dtype='int64')\n",
    "list3 = np.array(list3, dtype='int64')"
   ]
  },
  {
   "cell_type": "markdown",
   "metadata": {},
   "source": [
    "Q: Is it possible to create an array of both floats and integers? \n",
    "\n",
    "A: The dtype of an array has to be either a float or integer. That being said, you can store both integer and float values within a float type, but not vice versa."
   ]
  },
  {
   "cell_type": "markdown",
   "metadata": {},
   "source": [
    "Day 2: Generating Random Arrays"
   ]
  },
  {
   "cell_type": "code",
   "execution_count": 157,
   "metadata": {},
   "outputs": [],
   "source": [
    "rng = np.random.default_rng(seed = 10)\n",
    "\n",
    "# Create an array of random numbers between 0 and 1.\n",
    "list1 = rng.random((3,4))"
   ]
  },
  {
   "cell_type": "code",
   "execution_count": 158,
   "metadata": {},
   "outputs": [],
   "source": [
    "# Create an array of random integers between 0 and 10.\n",
    "list2 = rng.integers(low=0, high=10, size=(3,4))"
   ]
  },
  {
   "cell_type": "code",
   "execution_count": 159,
   "metadata": {},
   "outputs": [
    {
     "data": {
      "text/plain": [
       "-0.065968542198611"
      ]
     },
     "execution_count": 159,
     "metadata": {},
     "output_type": "execute_result"
    }
   ],
   "source": [
    "# Create an array of 1000 random numbers from a standard normal distribution with a mean of 0 and variance of 1.\n",
    "list3 = rng.normal(0,1,1000)\n",
    "list3.mean()"
   ]
  },
  {
   "cell_type": "code",
   "execution_count": 160,
   "metadata": {},
   "outputs": [
    {
     "data": {
      "text/plain": [
       "array([['Orange', 'Pear', 'Orange', 'Orange'],\n",
       "       ['Orange', 'Apple', 'Orange', 'Apple'],\n",
       "       ['Orange', 'Pear', 'Pear', 'Orange']], dtype='<U6')"
      ]
     },
     "execution_count": 160,
     "metadata": {},
     "output_type": "execute_result"
    }
   ],
   "source": [
    "# Generate an array from the list below\n",
    "arr = [\"Orange\",\"Apple\",\"Pear\"]\n",
    "\n",
    "random_choice = np.random.choice(arr,size=(3,4))\n",
    "random_choice"
   ]
  },
  {
   "cell_type": "markdown",
   "metadata": {},
   "source": [
    "Day 4: NumPy Arrays and Vector Operations"
   ]
  },
  {
   "cell_type": "code",
   "execution_count": 161,
   "metadata": {},
   "outputs": [
    {
     "name": "stdout",
     "output_type": "stream",
     "text": [
      "Shape of list1 is (2, 3)\n",
      "Shape of list2 is (1, 3)\n"
     ]
    }
   ],
   "source": [
    "import matplotlib.pyplot as plt\n",
    "\n",
    "# Create two arrays of random integers between 10 and 20.\n",
    "rng = np.random.default_rng(seed=10)\n",
    "\n",
    "list1 = rng.integers(low=10, high=20, size=(2,3))\n",
    "list2 = rng.integers(low=10, high=20, size=(1,3))\n",
    "\n",
    "# Confirm shape of lists\n",
    "print(f'Shape of list1 is',list1.shape)\n",
    "print(f'Shape of list2 is',list2.shape)\n"
   ]
  },
  {
   "cell_type": "code",
   "execution_count": 162,
   "metadata": {},
   "outputs": [
    {
     "name": "stdout",
     "output_type": "stream",
     "text": [
      "Shape of the list3 is (2, 3)\n",
      "The reason is that the result will default to the array that encompasses the smaller array.\n"
     ]
    }
   ],
   "source": [
    "# Add the two arrays together\n",
    "list3 = list1 + list2\n",
    "print('Shape of the list3 is',list3.shape)\n",
    "print('The reason is that the result will default to the array that encompasses the smaller array.')"
   ]
  },
  {
   "cell_type": "code",
   "execution_count": 163,
   "metadata": {},
   "outputs": [
    {
     "data": {
      "text/plain": [
       "array([[680],\n",
       "       [691]])"
      ]
     },
     "execution_count": 163,
     "metadata": {},
     "output_type": "execute_result"
    }
   ],
   "source": [
    "# Perform a dot operation on the arrays\n",
    "dot_product = np.dot(list1,list2.transpose())\n",
    "dot_product"
   ]
  },
  {
   "cell_type": "code",
   "execution_count": 164,
   "metadata": {},
   "outputs": [
    {
     "data": {
      "image/png": "[encoded data removed]",
      "text/plain": [
       "<Figure size 640x480 with 1 Axes>"
      ]
     },
     "metadata": {},
     "output_type": "display_data"
    },
    {
     "name": "stdout",
     "output_type": "stream",
     "text": [
      "Mean of list4 is 5.01\n",
      "Mode of list4 is 10\n"
     ]
    }
   ],
   "source": [
    "# Create a histogram with an 1-dimensional array of 100 random integers.\n",
    "list4 = rng.integers(low=0, high=11, size=(100,))\n",
    "plt.hist(list4)\n",
    "plt.show()\n",
    "\n",
    "# Calculate the median and mode\n",
    "print('Mean of list4 is',list4.mean())\n",
    "print('Mode of list4 is 10')"
   ]
  },
  {
   "cell_type": "code",
   "execution_count": 165,
   "metadata": {},
   "outputs": [
    {
     "data": {
      "image/png": "[encoded data removed]",
      "text/plain": [
       "<Figure size 640x480 with 1 Axes>"
      ]
     },
     "metadata": {},
     "output_type": "display_data"
    }
   ],
   "source": [
    "# Create a 3-D array f 100 random floats between 0 and 1.\n",
    "list5 = rng.random(size=(100,3))\n",
    "list5\n",
    "\n",
    "plt.scatter(list5[:,:1],list5[:,1:2])\n",
    "plt.show()"
   ]
  },
  {
   "cell_type": "code",
   "execution_count": 166,
   "metadata": {},
   "outputs": [
    {
     "data": {
      "text/plain": [
       "array([1, 3, 4, 8, 9, 9, 6])"
      ]
     },
     "execution_count": 166,
     "metadata": {},
     "output_type": "execute_result"
    }
   ],
   "source": [
    "# Flatten the array and return all non-zero numbers\n",
    "lst =[[0, 1, 3, 0, 4], [8, 9, 0, 9, 6]]\n",
    "lst = np.reshape(lst,10)\n",
    "\n",
    "non_zero = lst != 0\n",
    "lst[non_zero]"
   ]
  }
 ],
 "metadata": {
  "kernelspec": {
   "display_name": "Python 3",
   "language": "python",
   "name": "python3"
  },
  "language_info": {
   "codemirror_mode": {
    "name": "ipython",
    "version": 3
   },
   "file_extension": ".py",
   "mimetype": "text/x-python",
   "name": "python",
   "nbconvert_exporter": "python",
   "pygments_lexer": "ipython3",
   "version": "3.11.2"
  }
 },
 "nbformat": 4,
 "nbformat_minor": 2
}
