{
 "cells": [
  {
   "cell_type": "markdown",
   "metadata": {},
   "source": [
    "Day 2: Creating and Manipulating Arrays"
   ]
  },
  {
   "cell_type": "code",
   "execution_count": 1,
   "metadata": {},
   "outputs": [
    {
     "name": "stdout",
     "output_type": "stream",
     "text": [
      "(4,)\n",
      "4\n"
     ]
    }
   ],
   "source": [
    "import numpy as np\n",
    "\n",
    "# Set list from book\n",
    "list1 = [2,3,4,6]\n",
    "\n",
    "# Create a one-dimensional array from the list above\n",
    "list1 = np.array(list1, dtype='int64')\n",
    "\n",
    "# Check the shape and size of array\n",
    "print(list1.shape)\n",
    "print(list1.size)"
   ]
  },
  {
   "cell_type": "code",
   "execution_count": 2,
   "metadata": {},
   "outputs": [
    {
     "name": "stdout",
     "output_type": "stream",
     "text": [
      "[6 4 3 2]\n",
      "(4,)\n",
      "1\n",
      "int64\n",
      "(4,)\n",
      "1\n",
      "int64\n"
     ]
    }
   ],
   "source": [
    "# Reverse order of array\n",
    "print(list1[::-1])\n",
    "\n",
    "# Take these lists, turn them into arrays\n",
    "list1 = [2,3,4,6]\n",
    "list2 = [8,10,12,14]\n",
    "\n",
    "list1 = np.array(list1)\n",
    "list2 = np.array(list2)\n",
    "\n",
    "print(list1.shape)\n",
    "print(list1.ndim)\n",
    "print(list1.dtype)\n",
    "\n",
    "print(list2.shape)\n",
    "print(list2.ndim)\n",
    "print(list2.dtype)"
   ]
  },
  {
   "cell_type": "code",
   "execution_count": 3,
   "metadata": {},
   "outputs": [],
   "source": [
    "# Create arrays from the following list\n",
    "list1 = [2, 3, 4, 6]\n",
    "list2 = [8, 10.1, 12, 14] \n",
    "list3 = [16, 18, 20, 22.1]\n",
    "\n",
    "list1 = np.array(list1, dtype='int64')\n",
    "list2 = np.array(list2, dtype='int64')\n",
    "list3 = np.array(list3, dtype='int64')"
   ]
  },
  {
   "cell_type": "markdown",
   "metadata": {},
   "source": [
    "Q: Is it possible to create an array of both floats and integers? \n",
    "\n",
    "A: The dtype of an array has to be either a float or integer. That being said, you can store both integer and float values within a float type, but not vice versa."
   ]
  },
  {
   "cell_type": "markdown",
   "metadata": {},
   "source": [
    "Day 3: Generating Random Arrays"
   ]
  },
  {
   "cell_type": "code",
   "execution_count": 4,
   "metadata": {},
   "outputs": [],
   "source": [
    "rng = np.random.default_rng(seed = 10)\n",
    "\n",
    "# Create an array of random numbers between 0 and 1.\n",
    "list1 = rng.random((3,4))"
   ]
  },
  {
   "cell_type": "code",
   "execution_count": 5,
   "metadata": {},
   "outputs": [],
   "source": [
    "# Create an array of random integers between 0 and 10.\n",
    "list2 = rng.integers(low=0, high=10, size=(3,4))"
   ]
  },
  {
   "cell_type": "code",
   "execution_count": 6,
   "metadata": {},
   "outputs": [
    {
     "data": {
      "text/plain": [
       "-0.065968542198611"
      ]
     },
     "execution_count": 6,
     "metadata": {},
     "output_type": "execute_result"
    }
   ],
   "source": [
    "# Create an array of 1000 random numbers from a standard normal distribution with a mean of 0 and variance of 1.\n",
    "list3 = rng.normal(0,1,1000)\n",
    "list3.mean()"
   ]
  },
  {
   "cell_type": "code",
   "execution_count": 7,
   "metadata": {},
   "outputs": [
    {
     "data": {
      "text/plain": [
       "array([['Orange', 'Pear', 'Pear', 'Orange'],\n",
       "       ['Orange', 'Orange', 'Orange', 'Pear'],\n",
       "       ['Pear', 'Pear', 'Orange', 'Pear']], dtype='<U6')"
      ]
     },
     "execution_count": 7,
     "metadata": {},
     "output_type": "execute_result"
    }
   ],
   "source": [
    "# Generate an array from the list below\n",
    "arr = [\"Orange\",\"Apple\",\"Pear\"]\n",
    "\n",
    "random_choice = np.random.choice(arr,size=(3,4))\n",
    "random_choice"
   ]
  },
  {
   "cell_type": "markdown",
   "metadata": {},
   "source": [
    "Day 4: NumPy Arrays and Vector Operations"
   ]
  },
  {
   "cell_type": "code",
   "execution_count": 8,
   "metadata": {},
   "outputs": [
    {
     "name": "stdout",
     "output_type": "stream",
     "text": [
      "Shape of list1 is (2, 3)\n",
      "Shape of list2 is (1, 3)\n"
     ]
    }
   ],
   "source": [
    "import matplotlib.pyplot as plt\n",
    "\n",
    "# Create two arrays of random integers between 10 and 20.\n",
    "rng = np.random.default_rng(seed=10)\n",
    "\n",
    "list1 = rng.integers(low=10, high=20, size=(2,3))\n",
    "list2 = rng.integers(low=10, high=20, size=(1,3))\n",
    "\n",
    "# Confirm shape of lists\n",
    "print(f'Shape of list1 is',list1.shape)\n",
    "print(f'Shape of list2 is',list2.shape)\n"
   ]
  },
  {
   "cell_type": "code",
   "execution_count": 9,
   "metadata": {},
   "outputs": [
    {
     "name": "stdout",
     "output_type": "stream",
     "text": [
      "Shape of the list3 is (2, 3)\n",
      "The reason is that the result will default to the array that encompasses the smaller array.\n"
     ]
    }
   ],
   "source": [
    "# Add the two arrays together\n",
    "list3 = list1 + list2\n",
    "print('Shape of the list3 is',list3.shape)\n",
    "print('The reason is that the result will default to the array that encompasses the smaller array.')"
   ]
  },
  {
   "cell_type": "code",
   "execution_count": 10,
   "metadata": {},
   "outputs": [
    {
     "data": {
      "text/plain": [
       "array([[680],\n",
       "       [691]])"
      ]
     },
     "execution_count": 10,
     "metadata": {},
     "output_type": "execute_result"
    }
   ],
   "source": [
    "# Perform a dot operation on the arrays\n",
    "dot_product = np.dot(list1,list2.transpose())\n",
    "dot_product"
   ]
  },
  {
   "cell_type": "code",
   "execution_count": 11,
   "metadata": {},
   "outputs": [
    {
     "data": {
      "image/png": "[encoded data removed]",
      "text/plain": [
       "<Figure size 640x480 with 1 Axes>"
      ]
     },
     "metadata": {},
     "output_type": "display_data"
    },
    {
     "name": "stdout",
     "output_type": "stream",
     "text": [
      "Mean of list4 is 5.01\n",
      "Mode of list4 is 10\n"
     ]
    }
   ],
   "source": [
    "# Create a histogram with an 1-dimensional array of 100 random integers.\n",
    "list4 = rng.integers(low=0, high=11, size=(100,))\n",
    "plt.hist(list4)\n",
    "plt.show()\n",
    "\n",
    "# Calculate the median and mode\n",
    "print('Mean of list4 is',list4.mean())\n",
    "print('Mode of list4 is 10')"
   ]
  },
  {
   "cell_type": "code",
   "execution_count": 12,
   "metadata": {},
   "outputs": [
    {
     "data": {
      "image/png": "[encoded data removed]",
      "text/plain": [
       "<Figure size 640x480 with 1 Axes>"
      ]
     },
     "metadata": {},
     "output_type": "display_data"
    }
   ],
   "source": [
    "# Create a 3-D array f 100 random floats between 0 and 1.\n",
    "list5 = rng.random(size=(100,3))\n",
    "list5\n",
    "\n",
    "plt.scatter(list5[:,:1],list5[:,1:2])\n",
    "plt.show()"
   ]
  },
  {
   "cell_type": "code",
   "execution_count": 13,
   "metadata": {},
   "outputs": [
    {
     "data": {
      "text/plain": [
       "array([1, 3, 4, 8, 9, 9, 6])"
      ]
     },
     "execution_count": 13,
     "metadata": {},
     "output_type": "execute_result"
    }
   ],
   "source": [
    "# Flatten the array and return all non-zero numbers\n",
    "lst =[[0, 1, 3, 0, 4], [8, 9, 0, 9, 6]]\n",
    "lst = np.reshape(lst,10)\n",
    "\n",
    "non_zero = lst != 0\n",
    "lst[non_zero]"
   ]
  },
  {
   "cell_type": "code",
   "execution_count": 14,
   "metadata": {},
   "outputs": [
    {
     "data": {
      "text/plain": [
       "array([-45, -77, -44])"
      ]
     },
     "execution_count": 14,
     "metadata": {},
     "output_type": "execute_result"
    }
   ],
   "source": [
    "# Create an array from the list. Write code to return all of the negative values in the list.\n",
    "list_numbers = [[12,23,-45],[18,-77,-44]]\n",
    "list_numbers = np.array(list_numbers)\n",
    "\n",
    "neg_values = list_numbers < 0\n",
    "\n",
    "list_numbers[neg_values]"
   ]
  },
  {
   "cell_type": "code",
   "execution_count": 15,
   "metadata": {},
   "outputs": [
    {
     "data": {
      "text/plain": [
       "array([[  24,   46,  -90],\n",
       "       [  36, -154,  -88]])"
      ]
     },
     "execution_count": 15,
     "metadata": {},
     "output_type": "execute_result"
    }
   ],
   "source": [
    "# Multiply each element in the array by 2. Create a new variable for this array.\n",
    "list_numbers1 = list_numbers * 2\n",
    "\n",
    "list_numbers1"
   ]
  },
  {
   "cell_type": "code",
   "execution_count": 16,
   "metadata": {},
   "outputs": [
    {
     "data": {
      "text/plain": [
       "array([ -20, -206])"
      ]
     },
     "execution_count": 16,
     "metadata": {},
     "output_type": "execute_result"
    }
   ],
   "source": [
    "#  Calculate the sum of numbers on axis 1.\n",
    "list_numbers1.sum(axis=1)"
   ]
  },
  {
   "cell_type": "code",
   "execution_count": 17,
   "metadata": {},
   "outputs": [
    {
     "data": {
      "text/plain": [
       "array([  60, -108, -178])"
      ]
     },
     "execution_count": 17,
     "metadata": {},
     "output_type": "execute_result"
    }
   ],
   "source": [
    "#  Calculate the sum of numbers on axis 0.\n",
    "list_numbers1.sum(axis=0)"
   ]
  },
  {
   "cell_type": "code",
   "execution_count": 18,
   "metadata": {},
   "outputs": [],
   "source": [
    "# Using the NumPy arange() function, create a NumPy array of numbers from 0 to 99. \n",
    "# The shape of the array must be (2, 5, 10).\n",
    "\n",
    "list_numbers2 = np.arange(0,100)\n",
    "list_numbers2 = np.reshape(list_numbers2,(2,5,10))\n"
   ]
  },
  {
   "cell_type": "code",
   "execution_count": 19,
   "metadata": {},
   "outputs": [],
   "source": [
    "# Write code to slice row [50, 51, 52, 53, 54, 55, 56, 57, 58, 59] \n",
    "# from the array above (question 5).\n",
    "\n",
    "list_numbers2_slice = list_numbers2[50:60]"
   ]
  },
  {
   "cell_type": "code",
   "execution_count": 20,
   "metadata": {},
   "outputs": [
    {
     "data": {
      "text/plain": [
       "1"
      ]
     },
     "execution_count": 20,
     "metadata": {},
     "output_type": "execute_result"
    }
   ],
   "source": [
    "# Let’s analyze the array you created in question 1 further. \n",
    "# How many numbers in row 1 are greater than the numbers in row 2?\n",
    "\n",
    "row_comparison = list_numbers[0] > list_numbers[1]\n",
    "\n",
    "first_row = list_numbers[0]\n",
    "first_row = first_row[row_comparison]\n",
    "\n",
    "first_row.size"
   ]
  },
  {
   "cell_type": "markdown",
   "metadata": {},
   "source": [
    "Day 6: Array Manipulation and Vector Operations"
   ]
  },
  {
   "cell_type": "code",
   "execution_count": 21,
   "metadata": {},
   "outputs": [
    {
     "data": {
      "text/plain": [
       "27.419700946582186"
      ]
     },
     "execution_count": 21,
     "metadata": {},
     "output_type": "execute_result"
    }
   ],
   "source": [
    "# Create a NumPy array with the list below. \n",
    "# Calculate the standard deviation of the array.\n",
    "\n",
    "list_str = [\"23\", \"12\", \"90\", \"28\", \"30\"]\n",
    "list = np.array(list_str, dtype=int)\n",
    "\n",
    "list.std()"
   ]
  },
  {
   "cell_type": "code",
   "execution_count": 22,
   "metadata": {},
   "outputs": [
    {
     "data": {
      "text/plain": [
       "148.0"
      ]
     },
     "execution_count": 22,
     "metadata": {},
     "output_type": "execute_result"
    }
   ],
   "source": [
    "# Write a code to change the data type of the array you created \n",
    "# in question one (1) to a floating data type. \n",
    "# Save this as a new variable.\n",
    "\n",
    "list1 = np.array(list, dtype=float)\n",
    "\n",
    "list1[2:5].sum()"
   ]
  },
  {
   "cell_type": "code",
   "execution_count": 23,
   "metadata": {},
   "outputs": [
    {
     "name": "stdout",
     "output_type": "stream",
     "text": [
      "Minimum value: 0\n",
      "Maximum value: 97\n",
      "Mean value: 50.1\n",
      "Standard Deviation: 29.241921961458004\n"
     ]
    }
   ],
   "source": [
    "# Create a 2-dimensional array of random integers from 0 to 100 with the shape (5, 5). \n",
    "# Use the array to find the minimum and maximum values, \n",
    "# as well as the mean and standard deviation.\n",
    "# Ensure that the results are reproducible.\n",
    "\n",
    "rng = np.random.default_rng(seed=12)\n",
    "\n",
    "question_4 = rng.integers(low=0, high=100, size= (2,5,5))\n",
    "\n",
    "print('Minimum value:',question_4.min())\n",
    "print('Maximum value:',question_4.max())\n",
    "print('Mean value:',question_4.mean())\n",
    "print('Standard Deviation:',question_4.std())"
   ]
  },
  {
   "cell_type": "code",
   "execution_count": 24,
   "metadata": {},
   "outputs": [
    {
     "data": {
      "text/plain": [
       "(array(['John', 'Smith'], dtype='<U6'),\n",
       " array(['Kenny', 'Sakula'], dtype='<U6'))"
      ]
     },
     "execution_count": 24,
     "metadata": {},
     "output_type": "execute_result"
    }
   ],
   "source": [
    "# Using NumPy’s char.join() function, create two arrays by joining \n",
    "# the first name with the last name. \n",
    "# Your first array should be: array(['John', 'Smith'], dtype='U6'). \n",
    "# Your second array should be: array(['Kenny', 'Sakula'], dtype='U6').\n",
    "\n",
    "first_names = [\"John\", \"Kenny\"] \n",
    "last_names = [\"Smith\", \"Sakula\"]\n",
    "\n",
    "names = np.char.join(\"\", [first_names,last_names])\n",
    "\n",
    "name1 = names[:,0]\n",
    "name2 = names[:,1]\n",
    "name1,name2"
   ]
  },
  {
   "cell_type": "markdown",
   "metadata": {},
   "source": [
    "Day 7: Transpose and Swap Arrays"
   ]
  },
  {
   "cell_type": "code",
   "execution_count": 25,
   "metadata": {},
   "outputs": [],
   "source": [
    "# Using the arange() function, create an array of numbers from 0 and 10. \n",
    "# The shape of the array must be (2, 5).\n",
    "arr1 = np.arange(0,10).reshape(2,5)"
   ]
  },
  {
   "cell_type": "code",
   "execution_count": 26,
   "metadata": {},
   "outputs": [
    {
     "data": {
      "text/plain": [
       "array([[ 0,  3,  6,  9, 12],\n",
       "       [ 6,  9, 12, 15, 18]])"
      ]
     },
     "execution_count": 26,
     "metadata": {},
     "output_type": "execute_result"
    }
   ],
   "source": [
    "# Write a code to change the shape of the array (question 1) to (5, 2). \n",
    "# Create a new variable for this array. \n",
    "# Now, add this array to the original array in question 1. \n",
    "# The resulting array should have shapes (2, 5). Save this as a variable.\n",
    "\n",
    "arr2 = arr1.reshape(5,2)\n",
    "\n",
    "arr3 = arr2.transpose() + arr1\n",
    "arr3"
   ]
  },
  {
   "cell_type": "code",
   "execution_count": 27,
   "metadata": {},
   "outputs": [
    {
     "data": {
      "text/plain": [
       "array([[ 0,  6],\n",
       "       [ 3,  9],\n",
       "       [ 6, 12],\n",
       "       [ 9, 15],\n",
       "       [12, 18]])"
      ]
     },
     "execution_count": 27,
     "metadata": {},
     "output_type": "execute_result"
    }
   ],
   "source": [
    "# Swap the indexes of the array (question 2) using the swapaxis() method. \n",
    "# Create a new variable for the swapped array\n",
    "\n",
    "arr4 = arr3.swapaxes(0,1)\n",
    "arr4"
   ]
  },
  {
   "cell_type": "code",
   "execution_count": 28,
   "metadata": {},
   "outputs": [
    {
     "data": {
      "text/plain": [
       "array([0, 6])"
      ]
     },
     "execution_count": 28,
     "metadata": {},
     "output_type": "execute_result"
    }
   ],
   "source": [
    "# Write a code to slice row 1 from the swapped array in question 3.\n",
    "arr4[0]"
   ]
  },
  {
   "cell_type": "code",
   "execution_count": 29,
   "metadata": {},
   "outputs": [
    {
     "data": {
      "image/png": "[encoded data removed]",
      "text/plain": [
       "<Figure size 1200x800 with 2 Axes>"
      ]
     },
     "metadata": {},
     "output_type": "display_data"
    }
   ],
   "source": [
    "players = ['Robin','Leo','Pogba','Diego','Ronaldo']\n",
    "teams = ['Man UTD','Barca','Juve','Napo','RMadrid']\n",
    "\n",
    "goals = [[12,15,16,15,13],\n",
    "         [26,30,31,25,24],\n",
    "         [10,12,8,6,13],\n",
    "         [18,19,17,20,21],\n",
    "         [21,32,25,21,22]\n",
    "         ]\n",
    "\n",
    "# Arrange into np array.\n",
    "goals = np.array(goals)\n",
    "\n",
    "# Combine player names with team label.\n",
    "player_team_label = [f\" {team} {player}\" for team, player in zip(teams, players)]\n",
    "\n",
    "# Download seaborn to complete this section.\n",
    "import seaborn as sns\n",
    "import matplotlib.pyplot as plt\n",
    "\n",
    "fig, ax = plt.subplots(figsize=(12,8))\n",
    "sns.heatmap(goals, annot = True)\n",
    "ax.set_xticks(np.arange(len(players)), labels=players)\n",
    "ax.set_yticks(np.arange(len(teams)), labels=player_team_label)\n",
    "plt.title(\"Goals Scored by Players in 5 Seasons\", fontsize=20)\n",
    "plt.show()"
   ]
  },
  {
   "cell_type": "markdown",
   "metadata": {},
   "source": [
    "Day 8: Slicing NumPy Arrays"
   ]
  },
  {
   "cell_type": "code",
   "execution_count": 30,
   "metadata": {},
   "outputs": [],
   "source": [
    "# Create a one-dimensional array with random integers between 0 and 20. \n",
    "# The size of the array is 10. \n",
    "# Ensure that the results are reproducible.\n",
    "\n",
    "rng = np.random.default_rng(seed=14)\n",
    "\n",
    "arr1 = rng.integers(low=10, high=20, size=(1,10))"
   ]
  },
  {
   "cell_type": "code",
   "execution_count": 31,
   "metadata": {},
   "outputs": [],
   "source": [
    "# Using slicing, create a subset array of 3 integers \n",
    "# from the array you created in question 1. \n",
    "# The first integer is at index 2, the second integer is at index 4, \n",
    "# and the third index is at index 7.\n",
    "\n",
    "subset1 = arr1[:,2:5]\n",
    "subset2 = arr1[:,4:7]\n",
    "subset3 = arr1[:,7:10]"
   ]
  },
  {
   "cell_type": "code",
   "execution_count": 32,
   "metadata": {},
   "outputs": [
    {
     "data": {
      "text/plain": [
       "[3, 8, 13]"
      ]
     },
     "execution_count": 32,
     "metadata": {},
     "output_type": "execute_result"
    }
   ],
   "source": [
    "# Create a two-dimensional array from the list below. \n",
    "# Check the dimensions and shape of your array.\n",
    "\n",
    "my_list = [[1,2,3,4,5],[6,7,8,9,10],[11,12,13,14,15]]\n",
    "\n",
    "my_list = np.array(my_list).reshape(1,15)\n",
    "new_list = my_list[:,:14].reshape(2,7)\n",
    "\n",
    "# Using slicing, write a code to access the numbers 3, 8, and\n",
    "# 13. Your code should return [3, 8, 13].\n",
    "\n",
    "new_list = [new_list[0,2], new_list[1,0], new_list[1,5]]\n",
    "new_list"
   ]
  },
  {
   "cell_type": "code",
   "execution_count": 33,
   "metadata": {},
   "outputs": [
    {
     "data": {
      "text/plain": [
       "array([ 4,  8, 15])"
      ]
     },
     "execution_count": 33,
     "metadata": {},
     "output_type": "execute_result"
    }
   ],
   "source": [
    "list1 = [[[1, 2, 3, 4, 5], [6, 7, 8, 9, 10],\n",
    "          [11, 12, 13, 14, 15]]]\n",
    "\n",
    "list1 = np.array(list1)\n",
    "list2 = np.array([list1[0,0,3], list1[0,1,2], list1[0,2,4]])\n",
    "list2"
   ]
  },
  {
   "cell_type": "markdown",
   "metadata": {},
   "source": [
    "Day 9: Analyize a One-Dimensional Array"
   ]
  },
  {
   "cell_type": "code",
   "execution_count": 34,
   "metadata": {},
   "outputs": [],
   "source": [
    "import numpy as np\n",
    "# Create a NumPy one-dimensional array with the list above.\n",
    "nums = [12, 4, 6, 7, 9, 19, 21, 67, 8]\n",
    "\n",
    "nums = np.array(nums)"
   ]
  },
  {
   "cell_type": "code",
   "execution_count": 35,
   "metadata": {},
   "outputs": [
    {
     "data": {
      "text/plain": [
       "4"
      ]
     },
     "execution_count": 35,
     "metadata": {},
     "output_type": "execute_result"
    }
   ],
   "source": [
    "#Find minimum value of array.\n",
    "np.min(nums)"
   ]
  },
  {
   "cell_type": "code",
   "execution_count": 36,
   "metadata": {},
   "outputs": [
    {
     "data": {
      "text/plain": [
       "(array([7]),)"
      ]
     },
     "execution_count": 36,
     "metadata": {},
     "output_type": "execute_result"
    }
   ],
   "source": [
    "# Return index of the largest number in the array.\n",
    "max = np.max(nums)\n",
    "np.where((nums == max))"
   ]
  },
  {
   "cell_type": "code",
   "execution_count": 37,
   "metadata": {},
   "outputs": [
    {
     "data": {
      "text/plain": [
       "35.5"
      ]
     },
     "execution_count": 37,
     "metadata": {},
     "output_type": "execute_result"
    }
   ],
   "source": [
    "# Calculate the average of the biggest and smallest numbers in the array\n",
    "min = np.min(nums)\n",
    "max = np.max(nums)\n",
    "\n",
    "min_max = np.array([min,max])\n",
    "\n",
    "np.average(min_max)"
   ]
  },
  {
   "cell_type": "code",
   "execution_count": 38,
   "metadata": {},
   "outputs": [
    {
     "name": "stdout",
     "output_type": "stream",
     "text": [
      "mean: 17.0 , median: 9.0 , std: 18.499249234015476\n"
     ]
    }
   ],
   "source": [
    "# Find the mean, median, and standard deviation of the array.\n",
    "mean = np.mean(nums)\n",
    "median = np.median(nums)\n",
    "std = np.std(nums)\n",
    "\n",
    "print('mean:',mean,',', 'median:', median,',', 'std:', std)"
   ]
  },
  {
   "cell_type": "code",
   "execution_count": 39,
   "metadata": {},
   "outputs": [
    {
     "data": {
      "text/plain": [
       "[67]"
      ]
     },
     "execution_count": 39,
     "metadata": {},
     "output_type": "execute_result"
    }
   ],
   "source": [
    "# Find outlier in the array above. \n",
    "nums_sorted = np.sort(nums)\n",
    "\n",
    "def calculate_outlier(array):\n",
    "    q1 = np.percentile(array, 25)\n",
    "    q3 = np.percentile(array,75)\n",
    "    iqr = q3 - q1\n",
    "    lower_bound = q1 - 1.5 * iqr\n",
    "    upper_bound = q3 + 1.5 * iqr\n",
    "    outliers = [x for x in array if x < lower_bound or x > upper_bound]\n",
    "    return outliers\n",
    "\n",
    "calculate_outlier(nums_sorted)"
   ]
  },
  {
   "cell_type": "markdown",
   "metadata": {},
   "source": [
    "Day 10: The arange Function and Boolean Indexing"
   ]
  },
  {
   "cell_type": "code",
   "execution_count": 43,
   "metadata": {},
   "outputs": [
    {
     "data": {
      "text/plain": [
       "array([ 0,  5, 10, 15, 20, 25, 30, 35, 40, 45, 50, 55, 60, 65, 70, 75, 80,\n",
       "       85, 90, 95])"
      ]
     },
     "execution_count": 43,
     "metadata": {},
     "output_type": "execute_result"
    }
   ],
   "source": [
    "# Create a numpy array starting at 0 and steps of 5.\n",
    "array_1 = np.arange(0,100,5)"
   ]
  },
  {
   "cell_type": "code",
   "execution_count": 44,
   "metadata": {},
   "outputs": [
    {
     "data": {
      "text/plain": [
       "array([30, 35, 40, 45, 50, 55, 60, 65, 70, 75, 80, 85, 90, 95])"
      ]
     },
     "execution_count": 44,
     "metadata": {},
     "output_type": "execute_result"
    }
   ],
   "source": [
    "# Return all values greater than 25.\n",
    "greater_than_25 = array_1 > 25\n",
    "\n",
    "array_1[greater_than_25]"
   ]
  },
  {
   "cell_type": "code",
   "execution_count": 105,
   "metadata": {},
   "outputs": [
    {
     "data": {
      "text/plain": [
       "array(['mon', 'tue'], dtype='<U3')"
      ]
     },
     "execution_count": 105,
     "metadata": {},
     "output_type": "execute_result"
    }
   ],
   "source": [
    "# Use Boolean indexing to return days of the week where hours worked are 8.\n",
    "days = [\"mon\",\"tue\",\"wed\",\"thu\",\"fri\"]\n",
    "days = np.array(days)\n",
    "\n",
    "hours_worked = [8,8,10,11,7]\n",
    "hours_worked = np.array(hours_worked)\n",
    "\n",
    "# Make Boolean condition\n",
    "days[hours_worked == 8]"
   ]
  },
  {
   "cell_type": "code",
   "execution_count": 106,
   "metadata": {},
   "outputs": [
    {
     "data": {
      "text/plain": [
       "array(['thu'], dtype='<U3')"
      ]
     },
     "execution_count": 106,
     "metadata": {},
     "output_type": "execute_result"
    }
   ],
   "source": [
    "# Return highest number of hours worked day.\n",
    "sorted_list = np.sort(hours_worked)\n",
    "max = np.max(sorted_list)\n",
    "\n",
    "days[hours_worked == max]"
   ]
  },
  {
   "cell_type": "code",
   "execution_count": 107,
   "metadata": {},
   "outputs": [
    {
     "data": {
      "text/plain": [
       "array(['wed', 'thu'], dtype='<U3')"
      ]
     },
     "execution_count": 107,
     "metadata": {},
     "output_type": "execute_result"
    }
   ],
   "source": [
    "# Return days where over 9 hours of work were done.\n",
    "days[hours_worked > 9]"
   ]
  },
  {
   "cell_type": "markdown",
   "metadata": {},
   "source": [
    "Day 11: Preprocessing, Analysis, and Visualization"
   ]
  },
  {
   "cell_type": "code",
   "execution_count": 21,
   "metadata": {},
   "outputs": [
    {
     "data": {
      "text/plain": [
       "2"
      ]
     },
     "execution_count": 21,
     "metadata": {},
     "output_type": "execute_result"
    }
   ],
   "source": [
    "import numpy as np\n",
    "\n",
    "# Create an array with list below.\n",
    "list1 = [\"34\", \"name\", \"45\", \"is\", \"100\"]\n",
    "\n",
    "list1 = np.array(list1)\n",
    "\n",
    "# Write code to check how many non-numeric elements are in the list.\n",
    "non_numeric = list(filter(lambda x: not np.char.isnumeric(x),list1))\n",
    "\n",
    "len(non_numeric)"
   ]
  },
  {
   "cell_type": "code",
   "execution_count": 29,
   "metadata": {},
   "outputs": [
    {
     "data": {
      "text/plain": [
       "179"
      ]
     },
     "execution_count": 29,
     "metadata": {},
     "output_type": "execute_result"
    }
   ],
   "source": [
    "# Sum numeric elements in the list.\n",
    "numeric = list(filter(lambda x: np.char.isnumeric(x),list1))\n",
    "\n",
    "numeric = np.array(numeric).astype(int)\n",
    "\n",
    "sum(numeric)"
   ]
  },
  {
   "cell_type": "code",
   "execution_count": 32,
   "metadata": {},
   "outputs": [
    {
     "data": {
      "text/plain": [
       "[1156, 2025, 10000]"
      ]
     },
     "execution_count": 32,
     "metadata": {},
     "output_type": "execute_result"
    }
   ],
   "source": [
    "# Square all values in the list.\n",
    "numeric_squared = [x**2 for x in numeric]\n",
    "\n",
    "numeric_squared"
   ]
  },
  {
   "cell_type": "code",
   "execution_count": 41,
   "metadata": {},
   "outputs": [
    {
     "data": {
      "text/plain": [
       "array([ 85,  92,  70,  95,  90,  60,  90,  75,  65, 100])"
      ]
     },
     "execution_count": 41,
     "metadata": {},
     "output_type": "execute_result"
    }
   ],
   "source": [
    "import matplotlib.pyplot as plt \n",
    "\n",
    "student_id = [1,2,3,4,5,6,7,8,9,10]\n",
    "attendance = [85,92,70,95,90,60,90,75,65,100]\n",
    "final_exam_score = [80,89,65,56,66,50,85,70,55,100]\n",
    "\n",
    "student_id = np.array(student_id)\n",
    "attendance = np.array(attendance)\n",
    "final_exam_score = np.array(final_exam_score)\n",
    "\n",
    "new_array = student_id, attendance, final_exam_score\n",
    "new_array = np.array(new_array)\n",
    "new_array[1,:]"
   ]
  },
  {
   "cell_type": "code",
   "execution_count": 43,
   "metadata": {},
   "outputs": [
    {
     "data": {
      "image/png": "[encoded data removed]",
      "text/plain": [
       "<Figure size 640x480 with 1 Axes>"
      ]
     },
     "metadata": {},
     "output_type": "display_data"
    }
   ],
   "source": [
    "# Make a scatterplot between attendance and final exam score.\n",
    "plt.scatter(new_array[2,:],new_array[1,:])\n",
    "plt.show()"
   ]
  },
  {
   "cell_type": "code",
   "execution_count": null,
   "metadata": {},
   "outputs": [],
   "source": [
    "# The attendance record score of the outlier of the data was 95."
   ]
  }
 ],
 "metadata": {
  "kernelspec": {
   "display_name": "Python 3",
   "language": "python",
   "name": "python3"
  },
  "language_info": {
   "codemirror_mode": {
    "name": "ipython",
    "version": 3
   },
   "file_extension": ".py",
   "mimetype": "text/x-python",
   "name": "python",
   "nbconvert_exporter": "python",
   "pygments_lexer": "ipython3",
   "version": "3.11.2"
  }
 },
 "nbformat": 4,
 "nbformat_minor": 2
}
