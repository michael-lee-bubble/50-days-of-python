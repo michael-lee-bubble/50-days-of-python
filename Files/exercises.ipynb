{
 "cells": [
  {
   "cell_type": "markdown",
   "metadata": {},
   "source": [
    "Day 2: Creating and Manipulating Arrays"
   ]
  },
  {
   "cell_type": "code",
   "execution_count": 37,
   "metadata": {},
   "outputs": [
    {
     "name": "stdout",
     "output_type": "stream",
     "text": [
      "(4,)\n",
      "4\n",
      "[6 4 3 2]\n",
      "(4,)\n",
      "1\n",
      "int64\n",
      "(4,)\n",
      "1\n",
      "int64\n"
     ]
    }
   ],
   "source": [
    "import numpy as np\n",
    "\n",
    "# Set list from book\n",
    "list1 = [2,3,4,6]\n",
    "\n",
    "# Create a one-dimensional array from the list above\n",
    "list1 = np.array(list1, dtype='int64')\n",
    "\n",
    "# Check the shape and size of array\n",
    "print(list1.shape)\n",
    "print(list1.size)\n",
    "\n",
    "# Reverse order of array\n",
    "print(list1[::-1])\n",
    "\n",
    "# Take these lists, turn them into arrays\n",
    "list1 = [2,3,4,6]\n",
    "list2 = [8,10,12,14]\n",
    "\n",
    "list1 = np.array(list1)\n",
    "list2 = np.array(list2)\n",
    "\n",
    "print(list1.shape)\n",
    "print(list1.ndim)\n",
    "print(list1.dtype)\n",
    "\n",
    "print(list2.shape)\n",
    "print(list2.ndim)\n",
    "print(list2.dtype)\n",
    "\n",
    "# Create arrays from the following list\n",
    "list1 = [2, 3, 4, 6]\n",
    "list2 = [8, 10.1, 12, 14] \n",
    "list3 = [16, 18, 20, 22.1]\n",
    "\n",
    "list1 = np.array(list1, dtype='int64')\n",
    "list2 = np.array(list2, dtype='int64')\n",
    "list3 = np.array(list3, dtype='int64')\n",
    "\n",
    "# Is it possible to create an array of both floats and integers? \n",
    "# The dtype of an array has to be either a float or integer. That being said, you can store both integer and float values within a float type, but not vice versa."
   ]
  }
 ],
 "metadata": {
  "kernelspec": {
   "display_name": "Python 3",
   "language": "python",
   "name": "python3"
  },
  "language_info": {
   "codemirror_mode": {
    "name": "ipython",
    "version": 3
   },
   "file_extension": ".py",
   "mimetype": "text/x-python",
   "name": "python",
   "nbconvert_exporter": "python",
   "pygments_lexer": "ipython3",
   "version": "3.11.2"
  }
 },
 "nbformat": 4,
 "nbformat_minor": 2
}
