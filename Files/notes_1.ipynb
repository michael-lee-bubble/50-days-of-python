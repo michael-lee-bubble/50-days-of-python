{
 "cells": [
  {
   "cell_type": "markdown",
   "metadata": {},
   "source": [
    "1.1 Creating NumPy Arrays"
   ]
  },
  {
   "cell_type": "code",
   "execution_count": 1,
   "metadata": {},
   "outputs": [
    {
     "data": {
      "text/plain": [
       "array([1, 2, 3, 4, 5, 6])"
      ]
     },
     "execution_count": 1,
     "metadata": {},
     "output_type": "execute_result"
    }
   ],
   "source": [
    "import numpy as np\n",
    "\n",
    "lst = [1,2,3,4,5,6]\n",
    "\n",
    "# Creating an aray from list\n",
    "arr = np.array(lst)\n",
    "\n",
    "arr"
   ]
  },
  {
   "cell_type": "code",
   "execution_count": 2,
   "metadata": {},
   "outputs": [
    {
     "data": {
      "text/plain": [
       "array([1., 2., 3., 4., 5., 6.])"
      ]
     },
     "execution_count": 2,
     "metadata": {},
     "output_type": "execute_result"
    }
   ],
   "source": [
    "lst = [1,2,3,4,5,6]\n",
    "\n",
    "# Creating an array of floats from list\n",
    "arr = np.array(lst, dtype = float)\n",
    "arr"
   ]
  },
  {
   "cell_type": "code",
   "execution_count": 4,
   "metadata": {},
   "outputs": [
    {
     "data": {
      "text/plain": [
       "array([['Jon', 'Mary', 'Paul'],\n",
       "       ['Peter', 'Ben', 'Saul']], dtype='<U5')"
      ]
     },
     "execution_count": 4,
     "metadata": {},
     "output_type": "execute_result"
    }
   ],
   "source": [
    "names = [[\"Jon\",\"Mary\",\"Paul\"],[\"Peter\",\"Ben\",\"Saul\"]]\n",
    "\n",
    "arr1 = np.array(names)\n",
    "arr1"
   ]
  },
  {
   "cell_type": "code",
   "execution_count": 5,
   "metadata": {},
   "outputs": [
    {
     "data": {
      "text/plain": [
       "2"
      ]
     },
     "execution_count": 5,
     "metadata": {},
     "output_type": "execute_result"
    }
   ],
   "source": [
    "# Checking for number of dimensions the arra\n",
    "arr1.ndim"
   ]
  },
  {
   "cell_type": "code",
   "execution_count": 6,
   "metadata": {},
   "outputs": [
    {
     "data": {
      "text/plain": [
       "array([ 0,  5, 10, 15, 20, 25, 30, 35, 40, 45])"
      ]
     },
     "execution_count": 6,
     "metadata": {},
     "output_type": "execute_result"
    }
   ],
   "source": [
    "arr2 = np.arange(0,50,5)\n",
    "arr2"
   ]
  },
  {
   "cell_type": "code",
   "execution_count": 7,
   "metadata": {},
   "outputs": [
    {
     "data": {
      "text/plain": [
       "array([[0., 0., 0.],\n",
       "       [0., 0., 0.]])"
      ]
     },
     "execution_count": 7,
     "metadata": {},
     "output_type": "execute_result"
    }
   ],
   "source": [
    "arr3 = np.zeros((2,3),dtype = float)\n",
    "arr3"
   ]
  },
  {
   "cell_type": "code",
   "execution_count": 8,
   "metadata": {},
   "outputs": [
    {
     "data": {
      "text/plain": [
       "array([[1., 1., 1.],\n",
       "       [1., 1., 1.]])"
      ]
     },
     "execution_count": 8,
     "metadata": {},
     "output_type": "execute_result"
    }
   ],
   "source": [
    "arr3 = np.ones((2,3), dtype = float)\n",
    "arr3"
   ]
  },
  {
   "cell_type": "code",
   "execution_count": 9,
   "metadata": {},
   "outputs": [
    {
     "data": {
      "text/plain": [
       "array([[3, 7, 8, 1],\n",
       "       [5, 3, 7, 7]])"
      ]
     },
     "execution_count": 9,
     "metadata": {},
     "output_type": "execute_result"
    }
   ],
   "source": [
    "# Create a random number generator\n",
    "rng = np.random.default_rng()\n",
    "\n",
    "# Generate random integers from 0 to 9\n",
    "rng.integers(low=0, high=10, size=(2,4))"
   ]
  },
  {
   "cell_type": "code",
   "execution_count": 12,
   "metadata": {},
   "outputs": [
    {
     "data": {
      "text/plain": [
       "array([[0.33026884, 0.40517732, 0.57473782, 0.50639977],\n",
       "       [0.56421251, 0.56968731, 0.87411653, 0.08643046]])"
      ]
     },
     "execution_count": 12,
     "metadata": {},
     "output_type": "execute_result"
    }
   ],
   "source": [
    "# Create a random number generator\n",
    "rng = np.random.default_rng(seed = 24)\n",
    "\n",
    "# Generate random floats between 0 and 1\n",
    "rng.random((2,4))"
   ]
  },
  {
   "cell_type": "markdown",
   "metadata": {},
   "source": [
    "1.2 Accessing Array Elements"
   ]
  },
  {
   "cell_type": "code",
   "execution_count": 21,
   "metadata": {},
   "outputs": [
    {
     "data": {
      "text/plain": [
       "array(['Peter', 'Paul'], dtype='<U5')"
      ]
     },
     "execution_count": 21,
     "metadata": {},
     "output_type": "execute_result"
    }
   ],
   "source": [
    "# Call previously defined \"names\"\n",
    "arr1\n",
    "\n",
    "# Indexing to display only Mary and Paul\n",
    "select_mary_paul = arr1[0,1:]\n",
    "select_mary_paul\n",
    "\n",
    "# Fancy indexing\n",
    "select_peter = np.array([1,0])\n",
    "select_paul = np.array([0,2])\n",
    "\n",
    "select_peter_paul = arr1[select_peter,select_paul]\n",
    "select_peter_paul"
   ]
  },
  {
   "cell_type": "code",
   "execution_count": 24,
   "metadata": {},
   "outputs": [
    {
     "data": {
      "text/plain": [
       "array([1, 3, 5, 7, 9])"
      ]
     },
     "execution_count": 24,
     "metadata": {},
     "output_type": "execute_result"
    }
   ],
   "source": [
    "# Boolean Indexing\n",
    "arr = np.array([[1,2,3],[4,5,6],[7,8,9]])\n",
    "\n",
    "# Create a boolena mask based on the condition\n",
    "filter_array = arr % 2 != 0\n",
    "\n",
    "arr[filter_array]"
   ]
  },
  {
   "cell_type": "markdown",
   "metadata": {},
   "source": [
    "1.3 Array Manipulation"
   ]
  },
  {
   "cell_type": "code",
   "execution_count": 26,
   "metadata": {},
   "outputs": [
    {
     "data": {
      "text/plain": [
       "array([['Jon', 'Mary'],\n",
       "       ['Paul', 'Peter'],\n",
       "       ['Ben', 'Saul']], dtype='<U5')"
      ]
     },
     "execution_count": 26,
     "metadata": {},
     "output_type": "execute_result"
    }
   ],
   "source": [
    "# Creating an array \n",
    "arr = np.array([[1,2,3],[4,5,6],[7,8,9]])\n",
    "\n",
    "# Flatten the array using reshape\n",
    "np.reshape(arr,9)\n",
    "\n",
    "# Calling names variable\n",
    "arr1 = np.array(names)\n",
    "\n",
    "# Reshaping array to a (3,2) shape\n",
    "new_array = np.reshape(arr1,(3,2))\n",
    "new_array"
   ]
  },
  {
   "cell_type": "code",
   "execution_count": 30,
   "metadata": {},
   "outputs": [
    {
     "data": {
      "text/plain": [
       "array([[ 10,  20,  30],\n",
       "       [ 40,  50,  60],\n",
       "       [ 70,  80,  90],\n",
       "       [100, 110, 120],\n",
       "       [130, 140, 150]])"
      ]
     },
     "execution_count": 30,
     "metadata": {},
     "output_type": "execute_result"
    }
   ],
   "source": [
    "arr1 = np.array([[10,20,30],[40,50,60],[70,80,90]])\n",
    "arr2 = np.array([[100,110,120],[130,140,150]])\n",
    "\n",
    "arr3 = np.concatenate((arr1,arr2), axis = 0)\n",
    "arr3"
   ]
  },
  {
   "cell_type": "code",
   "execution_count": 33,
   "metadata": {},
   "outputs": [
    {
     "name": "stdout",
     "output_type": "stream",
     "text": [
      "[['Jon' 'Mary' 'Paul']]\n",
      "[['Peter' 'Ben' 'Saul']]\n"
     ]
    }
   ],
   "source": [
    "names = [[\"Jon\",\"Mary\",\"Paul\"],[\"Peter\",\"Ben\",\"Saul\"]]\n",
    "\n",
    "# Creating array\n",
    "arr1 = np.array(names)\n",
    "\n",
    "# Using split to split array into two parts\n",
    "split_one, split_two = np.split(arr1,2)\n",
    "\n",
    "print(split_one)\n",
    "print(split_two)"
   ]
  },
  {
   "cell_type": "code",
   "execution_count": 43,
   "metadata": {},
   "outputs": [
    {
     "data": {
      "text/plain": [
       "array([[ 6800,  8600],\n",
       "       [16700, 21200],\n",
       "       [26600, 33800]])"
      ]
     },
     "execution_count": 43,
     "metadata": {},
     "output_type": "execute_result"
    }
   ],
   "source": [
    "arr1 = np.array([[10,20,30],[40,50,60],[70,80,90]])\n",
    "arr2 = np.array([[100,110,120],[130,140,150]])\n",
    "\n",
    "# Performing a dot operation\n",
    "np.dot(arr1,arr2.transpose())"
   ]
  },
  {
   "cell_type": "markdown",
   "metadata": {},
   "source": [
    "1.4 Mathematical Functions"
   ]
  },
  {
   "cell_type": "code",
   "execution_count": 46,
   "metadata": {},
   "outputs": [
    {
     "name": "stdout",
     "output_type": "stream",
     "text": [
      "[[ 4  5 10]\n",
      " [10 12 15]]\n",
      "[[-2 -1 -2]\n",
      " [ 2  2  1]]\n",
      "[[ 3  6 24]\n",
      " [24 35 56]]\n",
      "[[0.33333333 0.66666667 0.66666667]\n",
      " [1.5        1.4        1.14285714]]\n",
      "[[ 1  4 16]\n",
      " [36 49 64]]\n",
      "[[1.73205081 1.73205081 2.44948974]\n",
      " [2.         2.23606798 2.64575131]]\n"
     ]
    }
   ],
   "source": [
    "arr1 = np.array([[1,2,4],[6,7,8]])\n",
    "arr2 = np.array([[3,3,6],[4,5,7]])\n",
    "\n",
    "# Adding two arrays\n",
    "add = np.add(arr1,arr2)\n",
    "print(add)\n",
    "\n",
    "# Subracting two arrays\n",
    "subtract = np.subtract(arr1,arr2)\n",
    "print(subtract)\n",
    "\n",
    "# Multiplying two arrys\n",
    "multiply = np.multiply(arr1,arr2)\n",
    "print(multiply)\n",
    "\n",
    "# Dividing two arrys\n",
    "divide = np.divide(arr1,arr2)\n",
    "print(divide)\n",
    "\n",
    "# Raising array to power 2\n",
    "power = np.power(arr1,2)\n",
    "print(power)\n",
    "\n",
    "# Finding sqrt of array\n",
    "sqrt = np.sqrt(arr2)\n",
    "print(sqrt)"
   ]
  },
  {
   "cell_type": "markdown",
   "metadata": {},
   "source": [
    "1.5 Statistical Functions"
   ]
  },
  {
   "cell_type": "code",
   "execution_count": 53,
   "metadata": {},
   "outputs": [
    {
     "data": {
      "text/plain": [
       "array([4.        , 5.33333333])"
      ]
     },
     "execution_count": 53,
     "metadata": {},
     "output_type": "execute_result"
    }
   ],
   "source": [
    "# Calling arr2 variable\n",
    "\n",
    "# Calculate the mean of each row\n",
    "mean = np.mean(arr2,axis=1)\n",
    "mean"
   ]
  },
  {
   "cell_type": "code",
   "execution_count": 54,
   "metadata": {},
   "outputs": [
    {
     "name": "stdout",
     "output_type": "stream",
     "text": [
      "[3. 5.]\n"
     ]
    }
   ],
   "source": [
    "# Calculating the median of each row\n",
    "median = np.median(arr2,axis=1)\n",
    "print(median)"
   ]
  },
  {
   "cell_type": "code",
   "execution_count": 55,
   "metadata": {},
   "outputs": [
    {
     "name": "stdout",
     "output_type": "stream",
     "text": [
      "[0.5 1.  0.5]\n"
     ]
    }
   ],
   "source": [
    "# Calculating the std of each column\n",
    "std = np.std(arr2,axis=0)\n",
    "print(std)"
   ]
  },
  {
   "cell_type": "code",
   "execution_count": 57,
   "metadata": {},
   "outputs": [
    {
     "name": "stdout",
     "output_type": "stream",
     "text": [
      "[0.25 1.   0.25]\n"
     ]
    }
   ],
   "source": [
    "# Calculating the var of each column\n",
    "variance = np.var(arr2,axis=0)\n",
    "print(variance)"
   ]
  },
  {
   "cell_type": "code",
   "execution_count": 58,
   "metadata": {},
   "outputs": [
    {
     "name": "stdout",
     "output_type": "stream",
     "text": [
      "[3 3 6]\n"
     ]
    }
   ],
   "source": [
    "#Calculating the min of each column \n",
    "min = np.min(arr2,axis=0)\n",
    "print(min)"
   ]
  },
  {
   "cell_type": "code",
   "execution_count": 59,
   "metadata": {},
   "outputs": [
    {
     "name": "stdout",
     "output_type": "stream",
     "text": [
      "7\n"
     ]
    }
   ],
   "source": [
    "# Calculating the max of the whole array\n",
    "max = np.max(arr2,axis=None)\n",
    "print(max)"
   ]
  }
 ],
 "metadata": {
  "kernelspec": {
   "display_name": "Python 3",
   "language": "python",
   "name": "python3"
  },
  "language_info": {
   "codemirror_mode": {
    "name": "ipython",
    "version": 3
   },
   "file_extension": ".py",
   "mimetype": "text/x-python",
   "name": "python",
   "nbconvert_exporter": "python",
   "pygments_lexer": "ipython3",
   "version": "3.11.2"
  }
 },
 "nbformat": 4,
 "nbformat_minor": 2
}
